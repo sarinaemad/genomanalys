{
  "cells": [
    {
      "cell_type": "code",
      "execution_count": 1,
      "metadata": {
        "id": "kaxOy2isb5xs",
        "tags": []
      },
      "outputs": [],
      "source": [
        "%matplotlib inline"
      ]
    },
    {
      "cell_type": "markdown",
      "metadata": {
        "id": "bKOoRFl3bMwG",
        "tags": []
      },
      "source": [
        "# Basics of PyTorch\n",
        "\n",
        "We start by running some basic PyTorch commands to get acquainted with the library. This section is based on the [PyTorch example](https://pytorch.org/tutorials/beginner/pytorch_with_examples.html) in the official tutorials.\n",
        "\n",
        "Numpy is a generic Python library for scientific computing and allows to work with $n$-dimensional arrays."
      ]
    },
    {
      "cell_type": "code",
      "execution_count": 2,
      "metadata": {
        "colab": {
          "base_uri": "https://localhost:8080/"
        },
        "id": "5Qv1SDicbMwI",
        "outputId": "8b84ccb6-4001-44fa-a4eb-2cea0ddd727d",
        "tags": []
      },
      "outputs": [
        {
          "output_type": "execute_result",
          "data": {
            "text/plain": [
              "np.float64(1.8930549869644293)"
            ]
          },
          "metadata": {},
          "execution_count": 2
        }
      ],
      "source": [
        "# load numpy\n",
        "import numpy as np\n",
        "\n",
        "# create standard normally distributed vectors x and y\n",
        "x = np.random.randn(20)\n",
        "y = np.random.randn(20)\n",
        "\n",
        "# compute the standard inner product of x and y\n",
        "np.dot(x, y)"
      ]
    },
    {
      "cell_type": "markdown",
      "metadata": {
        "id": "2Z5bRRG6bMwP",
        "tags": []
      },
      "source": [
        "In principle, one can implement even neural network models using numpy. However, numpy has two severe limitations. When working with deep neural networks, often one wants to speed up the computations by running them on GPUs. Unfortunately, numpy does not support GPUs. Moreover, training of differentiable models such as neural networks requires to keep track of gradients. This functionality is not provided by numpy.\n",
        "\n",
        "The PyTorch library tries to solve both issues."
      ]
    },
    {
      "cell_type": "code",
      "execution_count": 3,
      "metadata": {
        "tags": [],
        "id": "V6ilYj1xqz49"
      },
      "outputs": [],
      "source": [
        "# load PyTorch\n",
        "import torch"
      ]
    },
    {
      "cell_type": "markdown",
      "metadata": {
        "tags": [],
        "id": "5aO12oW0qz49"
      },
      "source": [
        "You can check that you use a recent version of PyTorch (as of September 2021, the most recent version is 1.9.0):"
      ]
    },
    {
      "cell_type": "code",
      "execution_count": 4,
      "metadata": {
        "tags": [],
        "id": "nId6l8Nmqz4-",
        "outputId": "0ed19567-657a-4539-99d9-5a3fb6e52ee2",
        "colab": {
          "base_uri": "https://localhost:8080/",
          "height": 35
        }
      },
      "outputs": [
        {
          "output_type": "execute_result",
          "data": {
            "text/plain": [
              "'2.8.0+cu126'"
            ],
            "application/vnd.google.colaboratory.intrinsic+json": {
              "type": "string"
            }
          },
          "metadata": {},
          "execution_count": 4
        }
      ],
      "source": [
        "torch.__version__"
      ]
    },
    {
      "cell_type": "markdown",
      "metadata": {
        "tags": [],
        "id": "LeS0oeaAqz4-"
      },
      "source": [
        "Similar to numpy, PyTorch allows us to work with $n$-dimensional arrays, which are called *tensors*."
      ]
    },
    {
      "cell_type": "code",
      "execution_count": 5,
      "metadata": {
        "colab": {
          "base_uri": "https://localhost:8080/"
        },
        "id": "dTsIolBDbMwQ",
        "outputId": "577a781b-d643-4b62-f5e7-51cb666deff9",
        "tags": []
      },
      "outputs": [
        {
          "output_type": "execute_result",
          "data": {
            "text/plain": [
              "tensor(-0.4867)"
            ]
          },
          "metadata": {},
          "execution_count": 5
        }
      ],
      "source": [
        "# create standard normally distributed vectors x and y\n",
        "x = torch.randn(20)\n",
        "y = torch.randn(20)\n",
        "\n",
        "# compute the standard inner product of x and y\n",
        "torch.dot(x, y)"
      ]
    },
    {
      "cell_type": "markdown",
      "metadata": {
        "id": "N8zXqQ-lbMwV",
        "tags": []
      },
      "source": [
        "We can easily convert numpy arrays to PyTorch tensors:"
      ]
    },
    {
      "cell_type": "code",
      "execution_count": 6,
      "metadata": {
        "colab": {
          "base_uri": "https://localhost:8080/"
        },
        "id": "kc952VBIbMwX",
        "outputId": "18cd537f-f277-4bf3-93d8-914d5d5f9cb1",
        "tags": []
      },
      "outputs": [
        {
          "output_type": "execute_result",
          "data": {
            "text/plain": [
              "tensor([-2.5260,  0.0264, -0.1782, -0.4359,  0.4140, -0.4445, -1.2085, -0.1642,\n",
              "        -0.5820, -1.3137, -0.6749,  0.4227,  0.5656,  1.1854,  0.6667,  0.4285,\n",
              "         0.4411,  0.3620,  1.0153,  1.6421], dtype=torch.float64)"
            ]
          },
          "metadata": {},
          "execution_count": 6
        }
      ],
      "source": [
        "a = np.random.randn(20)\n",
        "torch.from_numpy(a)"
      ]
    },
    {
      "cell_type": "markdown",
      "metadata": {
        "id": "GqQ9Fe7ct1sr",
        "tags": []
      },
      "source": [
        "By default numpy uses 64 bit floating point numbers, which are preserved by the conversion to PyTorch tensors. However, floating point numbers in PyTorch are encoded with 32 bits by default. The standard floating point representation in PyTorch can be obtained by running"
      ]
    },
    {
      "cell_type": "code",
      "execution_count": 7,
      "metadata": {
        "colab": {
          "base_uri": "https://localhost:8080/"
        },
        "id": "VzZ-SjfvuHxn",
        "outputId": "0a312573-d4c8-4a92-ddbf-ee2464852308",
        "tags": []
      },
      "outputs": [
        {
          "output_type": "execute_result",
          "data": {
            "text/plain": [
              "tensor([-2.5260,  0.0264, -0.1782, -0.4359,  0.4140, -0.4445, -1.2085, -0.1642,\n",
              "        -0.5820, -1.3137, -0.6749,  0.4227,  0.5656,  1.1854,  0.6667,  0.4285,\n",
              "         0.4411,  0.3620,  1.0153,  1.6421])"
            ]
          },
          "metadata": {},
          "execution_count": 7
        }
      ],
      "source": [
        "torch.from_numpy(a).float()"
      ]
    },
    {
      "cell_type": "markdown",
      "metadata": {
        "id": "Ol8qvEV5bMwb",
        "tags": []
      },
      "source": [
        "Similarly, PyTorch tensors can be converted to numpy arrays. Note that in this case an array with 32 bit floating point numbers is returned:"
      ]
    },
    {
      "cell_type": "code",
      "execution_count": 8,
      "metadata": {
        "colab": {
          "base_uri": "https://localhost:8080/"
        },
        "id": "3gS5yeKLbMwd",
        "outputId": "14fb353a-3c53-4571-b0eb-a76b4153cede",
        "tags": []
      },
      "outputs": [
        {
          "output_type": "execute_result",
          "data": {
            "text/plain": [
              "array([ 0.23472777,  1.2717627 , -0.0448824 , -0.08020197, -0.21244422,\n",
              "       -0.6948671 , -1.258568  ,  0.482457  , -0.64540994, -0.14629197,\n",
              "        0.84398234,  0.40555063, -2.1561334 ,  0.7782573 , -0.27943063,\n",
              "       -0.81290585, -0.7848632 ,  0.13487455, -0.69435126,  1.5647703 ],\n",
              "      dtype=float32)"
            ]
          },
          "metadata": {},
          "execution_count": 8
        }
      ],
      "source": [
        "b = torch.randn(20)\n",
        "b.numpy()"
      ]
    },
    {
      "cell_type": "markdown",
      "metadata": {
        "id": "CQDiZMgobMwj",
        "tags": []
      },
      "source": [
        "An advantage of PyTorch over numpy is that we can utilize GPUs by moving our data and models to the GPU. Note that the following example is only executed if you have access to a GPU."
      ]
    },
    {
      "cell_type": "code",
      "execution_count": 9,
      "metadata": {
        "id": "MptuL0OdbMwk",
        "tags": []
      },
      "outputs": [],
      "source": [
        "if torch.cuda.is_available():\n",
        "    x = x.cuda()\n",
        "    y = y.cuda()\n",
        "    print(torch.dot(x, y))"
      ]
    },
    {
      "cell_type": "markdown",
      "metadata": {
        "id": "wfYh85bPbMwo",
        "tags": []
      },
      "source": [
        "In the same way, data and models can be moved back to the CPU."
      ]
    },
    {
      "cell_type": "code",
      "execution_count": 10,
      "metadata": {
        "id": "4igwvkDIbMwq",
        "tags": []
      },
      "outputs": [],
      "source": [
        "x = x.cpu()\n",
        "y = y.cpu()"
      ]
    },
    {
      "cell_type": "markdown",
      "metadata": {
        "id": "0vl6ZqrrbMwu",
        "tags": []
      },
      "source": [
        "If we do not want to check `torch.cuda.is_available()` repeatedly, we can also define a device on which we would like to perform our computations and move tensors to this device."
      ]
    },
    {
      "cell_type": "code",
      "execution_count": 11,
      "metadata": {
        "id": "9IhmlX4HbMwv",
        "tags": []
      },
      "outputs": [],
      "source": [
        "device = torch.device(\"cuda:0\" if torch.cuda.is_available() else \"cpu\")\n",
        "\n",
        "x = x.to(device)\n",
        "y = y.to(device)"
      ]
    },
    {
      "cell_type": "markdown",
      "metadata": {
        "id": "IL2WxVqObMw0",
        "tags": []
      },
      "source": [
        "As mentioned above, often differentiable models are trained by gradient descent. To perform gradient descent, we have to know the gradient of the objective function with respect to the model parameters. In neural networks, these gradients can be computed efficiently by using the [backpropagation algorithm](https://en.wikipedia.org/wiki/Backpropagation).\n",
        "\n",
        "During the forward pass in our model, PyTorch defines a *computational graph*, whose nodes are PyTorch tensors and whose edges are the functions mapping one input tensor to another output tensor. By backpropagating this graph, we obtain the desired gradients.\n",
        "\n",
        "More concretely, if `x` is a tensor with attribute `x.requires_grad = True` then `x.grad` will be another tensor holding the gradient of `x` with respect to some scalar value."
      ]
    },
    {
      "cell_type": "code",
      "execution_count": 12,
      "metadata": {
        "colab": {
          "base_uri": "https://localhost:8080/"
        },
        "id": "NGtyB-0FbMw2",
        "outputId": "61cdc579-fb17-4996-de3b-b65770bd1387",
        "tags": []
      },
      "outputs": [
        {
          "output_type": "stream",
          "name": "stdout",
          "text": [
            "Output of the forward pass: -3.8044116497039795\n",
            "Gradient information of x: tensor([1., 1., 1., 1., 1., 1., 1., 1., 1., 1., 1., 1., 1., 1., 1., 1., 1., 1.,\n",
            "        1., 1.])\n",
            "Gradient information of y: None\n"
          ]
        }
      ],
      "source": [
        "# state that we want to obtain the gradients of x\n",
        "x.requires_grad = True\n",
        "\n",
        "# run the forward pass and build the computational graph\n",
        "z = torch.sum(x - y)\n",
        "print(f\"Output of the forward pass: {z}\")\n",
        "\n",
        "# backpropagate the graph\n",
        "z.backward()\n",
        "\n",
        "print(f\"Gradient information of x: {x.grad}\")\n",
        "print(f\"Gradient information of y: {y.grad}\")"
      ]
    },
    {
      "cell_type": "markdown",
      "metadata": {
        "id": "pIt_w1AMvHOx",
        "tags": []
      },
      "source": [
        "By default, if we repeat our computations and backpropagate again, the gradients are accumulated."
      ]
    },
    {
      "cell_type": "code",
      "execution_count": 13,
      "metadata": {
        "colab": {
          "base_uri": "https://localhost:8080/"
        },
        "id": "c3cmFXm9vimy",
        "outputId": "e46c3f82-2ed2-44fb-a8be-a8e34e9e6f81",
        "tags": []
      },
      "outputs": [
        {
          "output_type": "stream",
          "name": "stdout",
          "text": [
            "Output of the forward pass: -3.8044116497039795\n",
            "Gradient information of x: tensor([2., 2., 2., 2., 2., 2., 2., 2., 2., 2., 2., 2., 2., 2., 2., 2., 2., 2.,\n",
            "        2., 2.])\n",
            "Gradient information of y: None\n"
          ]
        }
      ],
      "source": [
        "# run the forward pass and build the computational graph\n",
        "z = torch.sum(x - y)\n",
        "print(f\"Output of the forward pass: {z}\")\n",
        "\n",
        "# backpropagate the graph\n",
        "z.backward()\n",
        "\n",
        "print(f\"Gradient information of x: {x.grad}\")\n",
        "print(f\"Gradient information of y: {y.grad}\")"
      ]
    },
    {
      "cell_type": "markdown",
      "metadata": {
        "id": "0-B_Aa4QvofM",
        "tags": []
      },
      "source": [
        "To override the gradients, we have to set them to zero before running the forward pass."
      ]
    },
    {
      "cell_type": "code",
      "execution_count": 14,
      "metadata": {
        "colab": {
          "base_uri": "https://localhost:8080/"
        },
        "id": "axPworlwvoI_",
        "outputId": "341067cd-4d89-42cc-ccf2-5e592f005c76",
        "tags": []
      },
      "outputs": [
        {
          "output_type": "stream",
          "name": "stdout",
          "text": [
            "Output of the forward pass: -3.8044116497039795\n",
            "Gradient information of x: tensor([1., 1., 1., 1., 1., 1., 1., 1., 1., 1., 1., 1., 1., 1., 1., 1., 1., 1.,\n",
            "        1., 1.])\n",
            "Gradient information of y: None\n"
          ]
        }
      ],
      "source": [
        "# set the gradient of x to zero\n",
        "x.grad.zero_()\n",
        "\n",
        "# run the forward pass and build the computational graph\n",
        "z = torch.sum(x - y)\n",
        "print(f\"Output of the forward pass: {z}\")\n",
        "\n",
        "# backpropagate the graph\n",
        "z.backward()\n",
        "\n",
        "print(f\"Gradient information of x: {x.grad}\")\n",
        "print(f\"Gradient information of y: {y.grad}\")"
      ]
    },
    {
      "cell_type": "markdown",
      "metadata": {
        "id": "7TxyaB_NbMw6",
        "tags": []
      },
      "source": [
        "If we want perform operations that should not be tracked by PyTorch, we can wrap them inside a `torch.no_grad()` clause."
      ]
    },
    {
      "cell_type": "code",
      "execution_count": 15,
      "metadata": {
        "colab": {
          "base_uri": "https://localhost:8080/"
        },
        "id": "KTL67owpbMw7",
        "outputId": "522790bb-5d08-4531-9a79-a089f6987463",
        "scrolled": true,
        "tags": []
      },
      "outputs": [
        {
          "output_type": "stream",
          "name": "stdout",
          "text": [
            "tensor(-3.8044)\n"
          ]
        }
      ],
      "source": [
        "with torch.no_grad():\n",
        "    print(torch.sum(x - y))"
      ]
    },
    {
      "cell_type": "markdown",
      "metadata": {
        "tags": [],
        "id": "wg3_XbhDqz5A"
      },
      "source": [
        "With recent PyTorch versions an error is thrown if we try to convert a PyTorch tensor with gradient information to a numpy array:"
      ]
    },
    {
      "cell_type": "code",
      "execution_count": 18,
      "metadata": {
        "tags": [],
        "id": "60Xhnietqz5A",
        "outputId": "2ef37c48-7e9a-42d5-e006-c880857671f0",
        "colab": {
          "base_uri": "https://localhost:8080/",
          "height": 139
        }
      },
      "outputs": [
        {
          "output_type": "error",
          "ename": "RuntimeError",
          "evalue": "Can't call numpy() on Tensor that requires grad. Use tensor.detach().numpy() instead.",
          "traceback": [
            "\u001b[0;31m---------------------------------------------------------------------------\u001b[0m",
            "\u001b[0;31mRuntimeError\u001b[0m                              Traceback (most recent call last)",
            "\u001b[0;32m/tmp/ipython-input-2577979712.py\u001b[0m in \u001b[0;36m<cell line: 0>\u001b[0;34m()\u001b[0m\n\u001b[0;32m----> 1\u001b[0;31m \u001b[0mx\u001b[0m\u001b[0;34m.\u001b[0m\u001b[0mnumpy\u001b[0m\u001b[0;34m(\u001b[0m\u001b[0;34m)\u001b[0m\u001b[0;34m\u001b[0m\u001b[0;34m\u001b[0m\u001b[0m\n\u001b[0m",
            "\u001b[0;31mRuntimeError\u001b[0m: Can't call numpy() on Tensor that requires grad. Use tensor.detach().numpy() instead."
          ]
        }
      ],
      "source": [
        "x.numpy()"
      ]
    },
    {
      "cell_type": "markdown",
      "metadata": {
        "tags": [],
        "id": "ibg11txcqz5A"
      },
      "source": [
        "As suggested by the error message, we first have to remove the gradient information with [`detach`](https://pytorch.org/docs/stable/generated/torch.Tensor.detach.html) (we \"detach\" the tensor from the computational graph):"
      ]
    },
    {
      "cell_type": "code",
      "execution_count": 19,
      "metadata": {
        "tags": [],
        "id": "DGV_x2xNqz5A",
        "outputId": "115c400e-64dd-4d0e-b24b-f13406b6fe93",
        "colab": {
          "base_uri": "https://localhost:8080/"
        }
      },
      "outputs": [
        {
          "output_type": "execute_result",
          "data": {
            "text/plain": [
              "array([ 1.1961848 , -0.23849015, -1.2667569 ,  1.153724  ,  0.07178608,\n",
              "        0.09034913, -0.11165742,  0.6911381 ,  0.6985283 ,  0.55577445,\n",
              "       -0.83887684,  0.39312354,  0.20588726,  0.03503519, -1.5070282 ,\n",
              "        1.2592719 ,  0.20509882, -0.28655574,  0.20063749, -2.0369627 ],\n",
              "      dtype=float32)"
            ]
          },
          "metadata": {},
          "execution_count": 19
        }
      ],
      "source": [
        "x.detach().numpy()"
      ]
    },
    {
      "cell_type": "markdown",
      "metadata": {
        "id": "buOJk_X-bMxA",
        "tags": []
      },
      "source": [
        "# Linear regression example\n",
        "\n",
        "Now we do something (slightly) more interesting. We consider linear regression using PyTorch. We study the model\n",
        "\\begin{equation*}\n",
        "    y = \\theta_0 + \\theta_1 x + \\epsilon,\n",
        "\\end{equation*}\n",
        "where $\\epsilon$ represents the noise term.\n",
        "\n",
        "We generate training data $\\{x_i, y_i\\}_{i=1}^N$ with $N = 100$ data points from the model with the true parameters $\\boldsymbol{\\theta} = \\begin{bmatrix} \\theta_0 & \\theta_1\\end{bmatrix}^\\intercal = \\begin{bmatrix} 0.3 & 0.1 \\end{bmatrix}^\\intercal$ and normally distributed noise $\\epsilon \\sim \\mathcal{N}(0, 0.01^2)$. The inputs $x_i$ are sampled uniformly from the interval $[0,1]$."
      ]
    },
    {
      "cell_type": "code",
      "execution_count": 20,
      "metadata": {
        "id": "JD0sMA4zbMxB",
        "tags": []
      },
      "outputs": [],
      "source": [
        "theta_true = [0.3, 0.1]\n",
        "N = 100\n",
        "\n",
        "np.random.seed(1234)\n",
        "xt = np.random.uniform(size=N)\n",
        "yt = theta_true[0] + theta_true[1] * xt + 0.01 * np.random.randn(N)"
      ]
    },
    {
      "cell_type": "markdown",
      "metadata": {
        "id": "rUUhoKhwbMxG",
        "tags": []
      },
      "source": [
        "We plot the data to see what it looks like."
      ]
    },
    {
      "cell_type": "code",
      "execution_count": 21,
      "metadata": {
        "colab": {
          "base_uri": "https://localhost:8080/",
          "height": 430
        },
        "id": "OLRAfKcObMxH",
        "outputId": "bd699cb0-1a71-41b6-a7b2-523519e1aa1a",
        "tags": []
      },
      "outputs": [
        {
          "output_type": "display_data",
          "data": {
            "text/plain": [
              "<Figure size 640x480 with 1 Axes>"
            ],
            "image/png": "[encoded data removed]"
          },
          "metadata": {}
        }
      ],
      "source": [
        "import matplotlib\n",
        "import matplotlib.pyplot as plt\n",
        "\n",
        "plt.scatter(xt, yt, label='data')\n",
        "plt.plot([0, 1], [theta_true[0], theta_true[0] + theta_true[1]], 'k--', label='true model')\n",
        "plt.legend()\n",
        "plt.show()"
      ]
    },
    {
      "cell_type": "markdown",
      "metadata": {
        "id": "fIilymh9p4oK",
        "tags": []
      },
      "source": [
        "We want to estimate the parameters $\\boldsymbol{\\theta} = \\begin{bmatrix} \\theta_0 & \\theta_1\\end{bmatrix}^\\intercal$ of the linear regression model based on the training data $\\{x_i,y_i\\}_{i=1}^N$. The training data statistics can be written as\n",
        "\\begin{equation*}\n",
        "  \\mathbf{y} = \\mathbf{X} \\boldsymbol{\\theta} + \\boldsymbol{\\epsilon}, \\qquad \\mathbf{y}= \\begin{bmatrix} y_1 \\\\ \\vdots \\\\ y_N \\end{bmatrix}, \\qquad \\mathbf{X} = \\begin{bmatrix} 1 & x_1 \\\\ \\vdots & \\vdots \\\\ 1 & x_N \\end{bmatrix}, \\qquad \\boldsymbol{\\theta} = \\begin{bmatrix} \\theta_0 \\\\ \\theta_1 \\end{bmatrix},\n",
        "\\end{equation*}\n",
        "where $\\boldsymbol{\\epsilon}$ is a vector with the noise realizations. This formulation also adheres to the common convention in PyTorch that expects data to be multi-dimensional with each row representing a data sample. Hence we even reshape the vector of outputs to a matrix with one column by using `view(-1, 1)`."
      ]
    },
    {
      "cell_type": "code",
      "execution_count": 22,
      "metadata": {
        "id": "dJvA1fEQs8b_",
        "tags": []
      },
      "outputs": [],
      "source": [
        "# build the data matrices\n",
        "X = torch.stack([torch.ones(N), torch.from_numpy(xt).float()], dim = 1)\n",
        "Y = torch.from_numpy(yt).float().view(-1, 1)"
      ]
    },
    {
      "cell_type": "markdown",
      "metadata": {
        "id": "825xo6yKGzf1",
        "tags": []
      },
      "source": [
        "We also need to create a tensor for $\\boldsymbol{\\theta}$, which will be updated iteratively during the learning process. We initialize it with the constant  matrix $\\boldsymbol{\\theta} = \\begin{bmatrix} 1 & 1 \\end{bmatrix}^\\intercal$ and specify that we want to obtain the gradient of the (not yet defined) loss with respect to $\\boldsymbol{\\theta}$ during backpropagation."
      ]
    },
    {
      "cell_type": "code",
      "execution_count": 23,
      "metadata": {
        "id": "b4Y0q6iYHLuQ",
        "tags": []
      },
      "outputs": [],
      "source": [
        "# define the initial model parameters\n",
        "theta = torch.ones(2, 1, requires_grad = True)"
      ]
    },
    {
      "cell_type": "markdown",
      "metadata": {
        "id": "kIaUrrm6IAh_",
        "tags": []
      },
      "source": [
        "We proceed by implementing the mean squared error cost function $J(\\boldsymbol{\\theta})$, where\n",
        "\\begin{equation*}\n",
        "J(\\boldsymbol{\\theta}) = \\frac{1}{N} \\sum_{i=1}^N {(\\theta_0 + \\theta_1 x_i − y_i)}^2 = \\frac{1}{n} {\\|\\mathbf{X} \\boldsymbol{\\theta} − \\mathbf{y} \\|}^2_2.\n",
        "\\end{equation*}\n",
        "We multiply the input $\\mathbf{X}$ with the variable $\\boldsymbol{\\theta}$ using `mm` for matrix multiplication. We then subtract the corresponding outputs, take the square, and finally average over all data samples."
      ]
    },
    {
      "cell_type": "code",
      "execution_count": 24,
      "metadata": {
        "id": "GL_kqJTtJfhS",
        "tags": []
      },
      "outputs": [],
      "source": [
        "# evaluate the mean squared error for the current parameters\n",
        "loss = (X.mm(theta) - Y).pow(2).mean()"
      ]
    },
    {
      "cell_type": "markdown",
      "metadata": {
        "id": "4sMWBSBBK-J6",
        "tags": []
      },
      "source": [
        "We perform the optimization iteratively with gradient descent. This means that in every optimization step we update the parameter $\\boldsymbol{\\theta}$ by going in the opposite direction of the gradient of the cost function with a certain step length $\\gamma$, i.e., we compute $\\boldsymbol{\\theta} := \\boldsymbol{\\theta} - \\gamma \\nabla J(\\boldsymbol{\\theta})$. In this example we choose $\\gamma = 0.1$. In PyTorch the update step can be implemented as\n",
        "\n",
        "> Lägg till blockcitat\n",
        "\n"
      ]
    },
    {
      "cell_type": "code",
      "execution_count": 25,
      "metadata": {
        "id": "QGAsamm1LrF0",
        "tags": []
      },
      "outputs": [],
      "source": [
        "# perform backpropagation\n",
        "loss.backward()\n",
        "\n",
        "# perform a gradient descent step\n",
        "with torch.no_grad():\n",
        "    theta -= 0.1 * theta.grad"
      ]
    },
    {
      "cell_type": "markdown",
      "metadata": {
        "id": "LvcYU2ATbMxL",
        "tags": []
      },
      "source": [
        "Before we continue with the next optimization step, we have to reset the gradient to zero.\n"
      ]
    },
    {
      "cell_type": "markdown",
      "source": [],
      "metadata": {
        "id": "YoT8jCvPphVD"
      }
    },
    {
      "cell_type": "code",
      "execution_count": 26,
      "metadata": {
        "colab": {
          "base_uri": "https://localhost:8080/"
        },
        "id": "xJWXRL9HNIOE",
        "outputId": "b64a0803-4ad9-4905-d52e-7ef1bcd5fe3d",
        "tags": []
      },
      "outputs": [
        {
          "output_type": "execute_result",
          "data": {
            "text/plain": [
              "tensor([[0.],\n",
              "        [0.]])"
            ]
          },
          "metadata": {},
          "execution_count": 26
        }
      ],
      "source": [
        "# reset the gradient information\n",
        "theta.grad.zero_()"
      ]
    },
    {
      "cell_type": "markdown",
      "metadata": {
        "id": "xGxdwMU9NEq3",
        "tags": []
      },
      "source": [
        "The training step described above can now be repeated multiple times in a `for` loop. As an additional feature we create an illustration of the loss during the course of the optimization procedure."
      ]
    },
    {
      "cell_type": "code",
      "execution_count": 27,
      "metadata": {
        "colab": {
          "base_uri": "https://localhost:8080/",
          "height": 636
        },
        "id": "BPOPNi14bMxN",
        "outputId": "a225448c-d0b2-4033-e10e-dfa8b2b4563b",
        "tags": []
      },
      "outputs": [
        {
          "output_type": "stream",
          "name": "stdout",
          "text": [
            "Epoch    1: training loss  1.422702\n",
            "Epoch  100: training loss  0.001226\n",
            "Epoch  200: training loss  0.000196\n",
            "Epoch  300: training loss  0.000102\n",
            "Epoch  400: training loss  0.000094\n",
            "Epoch  500: training loss  0.000093\n",
            "Epoch  600: training loss  0.000093\n",
            "Epoch  700: training loss  0.000093\n",
            "Epoch  800: training loss  0.000093\n",
            "Epoch  900: training loss  0.000093\n",
            "Epoch 1000: training loss  0.000093\n"
          ]
        },
        {
          "output_type": "display_data",
          "data": {
            "text/plain": [
              "<Figure size 640x480 with 1 Axes>"
            ],
            "image/png": "[encoded data removed]"
          },
          "metadata": {}
        }
      ],
      "source": [
        "# define the initial model parameters\n",
        "theta = torch.ones(2, 1, requires_grad = True)\n",
        "\n",
        "# track the training loss\n",
        "training_loss = []\n",
        "\n",
        "# in multiple iterations\n",
        "for i in range(1000):\n",
        "    # evaluate the mean squared error for the current parameters\n",
        "    loss = (X.mm(theta) - Y).pow(2).mean()\n",
        "\n",
        "    # update the statistic and print loss\n",
        "    training_loss.append(loss.item())\n",
        "    if i == 0 or (i + 1) % 100 == 0:\n",
        "      print(f\"Epoch {i + 1:4d}: training loss {training_loss[-1]: 9.6f}\")\n",
        "\n",
        "    # perform backpropagation\n",
        "    loss.backward()\n",
        "\n",
        "    # perform a gradient descent step\n",
        "    with torch.no_grad():\n",
        "        theta -= 0.1 * theta.grad\n",
        "\n",
        "        # reset the gradient information\n",
        "        theta.grad.zero_()\n",
        "\n",
        "plt.figure()\n",
        "plt.plot(np.arange(1, len(training_loss) + 1), training_loss, 'o', label='training loss')\n",
        "plt.yscale('log')\n",
        "plt.xlabel('number of iterations')\n",
        "plt.legend()\n",
        "plt.show()"
      ]
    },
    {
      "cell_type": "markdown",
      "metadata": {
        "id": "yMz5Nrg9bMxQ",
        "tags": []
      },
      "source": [
        "We can check visually that the estimated model is actually close to the true model."
      ]
    },
    {
      "cell_type": "code",
      "execution_count": 28,
      "metadata": {
        "colab": {
          "base_uri": "https://localhost:8080/",
          "height": 430
        },
        "id": "S6vJ5dw8bMxR",
        "outputId": "3d43476b-2f91-43e8-d3eb-4f1fc5827933",
        "tags": []
      },
      "outputs": [
        {
          "output_type": "display_data",
          "data": {
            "text/plain": [
              "<Figure size 640x480 with 1 Axes>"
            ],
            "image/png": "[encoded data removed]"
          },
          "metadata": {}
        }
      ],
      "source": [
        "# we have to detach from the graph since otherwise the automatic conversion\n",
        "# to a numpy array performed by matplotlib will error\n",
        "theta_numpy = theta.detach().numpy()\n",
        "\n",
        "plt.scatter(xt, yt, label = 'data')\n",
        "plt.plot([0, 1], [theta_true[0], theta_true[0] + theta_true[1]], 'k--', label = 'true model')\n",
        "plt.plot([0, 1], [theta_numpy[0], theta_numpy[0] + theta_numpy[1]], 'r-', label = 'estimated model')\n",
        "plt.legend()\n",
        "plt.show()"
      ]
    },
    {
      "cell_type": "markdown",
      "metadata": {
        "id": "yGZu48hnbMxV",
        "tags": []
      },
      "source": [
        "The optimization of model parameters is a very common task in machine learning. PyTorch provides a [library of different optimization algorithms](https://pytorch.org/docs/stable/optim.html) which simplify this procedure, in particular for models with many parameters. The following code snippet defines an `optimizer` that can be used to optimize the parameters `theta` by regular gradient descent with a learning rate of `0.1`."
      ]
    },
    {
      "cell_type": "code",
      "execution_count": 29,
      "metadata": {
        "id": "tj3VrUZK0M-E",
        "tags": []
      },
      "outputs": [],
      "source": [
        "import torch.optim as optim\n",
        "\n",
        "# define the initial model parameters\n",
        "theta = torch.ones(2, 1, requires_grad = True)\n",
        "\n",
        "# define the optimizer\n",
        "optimizer = optim.SGD([theta], lr=0.1)"
      ]
    },
    {
      "cell_type": "markdown",
      "metadata": {
        "id": "4EmGKUIl09VV",
        "tags": []
      },
      "source": [
        "After we have computed the gradients for the model parameters that we want to optimize, `optimizer.step()` performs one gradient descent step. The gradients of all optimized parameters can be set to zero by running `optimizer.zero_grad()`.\n",
        "\n",
        "Taken together, the training of `theta` reduces to the following procedure."
      ]
    },
    {
      "cell_type": "code",
      "execution_count": 30,
      "metadata": {
        "colab": {
          "base_uri": "https://localhost:8080/",
          "height": 636
        },
        "id": "y5Eqd5yAbMxW",
        "outputId": "0204efc3-4587-4fb3-cdc1-567c10932e74",
        "tags": []
      },
      "outputs": [
        {
          "output_type": "stream",
          "name": "stdout",
          "text": [
            "Epoch    1: training loss  1.422702\n",
            "Epoch  100: training loss  0.001226\n",
            "Epoch  200: training loss  0.000196\n",
            "Epoch  300: training loss  0.000102\n",
            "Epoch  400: training loss  0.000094\n",
            "Epoch  500: training loss  0.000093\n",
            "Epoch  600: training loss  0.000093\n",
            "Epoch  700: training loss  0.000093\n",
            "Epoch  800: training loss  0.000093\n",
            "Epoch  900: training loss  0.000093\n",
            "Epoch 1000: training loss  0.000093\n"
          ]
        },
        {
          "output_type": "display_data",
          "data": {
            "text/plain": [
              "<Figure size 640x480 with 1 Axes>"
            ],
            "image/png": "[encoded data removed]"
          },
          "metadata": {}
        }
      ],
      "source": [
        "# define the initial model parameters\n",
        "theta = torch.ones(2, 1, requires_grad = True)\n",
        "\n",
        "# define the optimizer\n",
        "optimizer = optim.SGD([theta], lr=0.1)\n",
        "\n",
        "# track the training loss\n",
        "training_loss = []\n",
        "\n",
        "# in multiple iterations\n",
        "for i in range(1000):\n",
        "    # evaluate the mean squared error for the current parameters\n",
        "    loss = (X.mm(theta) - Y).pow(2).mean()\n",
        "\n",
        "    # update the statistic and print loss\n",
        "    training_loss.append(loss.item())\n",
        "    if i == 0 or (i + 1) % 100 == 0:\n",
        "      print(f\"Epoch {i + 1:4d}: training loss {training_loss[-1]: 9.6f}\")\n",
        "\n",
        "    # perform backpropagation\n",
        "    loss.backward()\n",
        "\n",
        "    # perform a gradient descent step\n",
        "    optimizer.step()\n",
        "\n",
        "    # reset the gradient information\n",
        "    optimizer.zero_grad()\n",
        "\n",
        "plt.figure()\n",
        "plt.plot(np.arange(1, len(training_loss) + 1), training_loss, 'o', label='training loss')\n",
        "plt.yscale('log')\n",
        "plt.xlabel('number of iterations')\n",
        "plt.legend()\n",
        "plt.show()"
      ]
    },
    {
      "cell_type": "markdown",
      "metadata": {
        "id": "Q2v09fjUbMxZ",
        "tags": []
      },
      "source": [
        "Again we inspect our estimated model visually."
      ]
    },
    {
      "cell_type": "code",
      "execution_count": 31,
      "metadata": {
        "colab": {
          "base_uri": "https://localhost:8080/",
          "height": 430
        },
        "id": "p8A-te2HbMxb",
        "outputId": "7b6046c6-4d30-48a7-9e21-1658a0e331f0",
        "tags": []
      },
      "outputs": [
        {
          "output_type": "display_data",
          "data": {
            "text/plain": [
              "<Figure size 640x480 with 1 Axes>"
            ],
            "image/png": "[encoded data removed]"
          },
          "metadata": {}
        }
      ],
      "source": [
        "theta_numpy = theta.detach().numpy()\n",
        "\n",
        "plt.scatter(xt, yt, label = 'data')\n",
        "plt.plot([0, 1], [theta_true[0], theta_true[0] + theta_true[1]], 'k--', label = 'true model')\n",
        "plt.plot([0, 1], [theta_numpy[0], theta_numpy[0] + theta_numpy[1]], 'r-', label = 'estimated model')\n",
        "plt.legend()\n",
        "plt.show()"
      ]
    },
    {
      "cell_type": "markdown",
      "metadata": {
        "id": "fnk7ZjTHbMxf",
        "tags": []
      },
      "source": [
        "Our regression model can be viewed as a neural network with only one linear layer. PyTorch already provides a [model of linear transformations](https://pytorch.org/docs/stable/nn.html#torch.nn.Linear) that by default also includes a bias term. The following code creates such a linear transformation for one-dimensional inputs and outputs."
      ]
    },
    {
      "cell_type": "code",
      "execution_count": 32,
      "metadata": {
        "id": "j98bKgrPVodY",
        "tags": []
      },
      "outputs": [],
      "source": [
        "import torch.nn as nn\n",
        "\n",
        "# define an affine transformation\n",
        "affine = nn.Linear(1, 1)"
      ]
    },
    {
      "cell_type": "markdown",
      "metadata": {
        "id": "83YDtvgrWVJQ",
        "tags": []
      },
      "source": [
        "We can extract the internal parameters of the linear layer."
      ]
    },
    {
      "cell_type": "code",
      "execution_count": 33,
      "metadata": {
        "colab": {
          "base_uri": "https://localhost:8080/"
        },
        "id": "tz01iKJgXcWg",
        "outputId": "c124f384-c9d2-46ad-a844-f1e7a8e6421d",
        "tags": []
      },
      "outputs": [
        {
          "output_type": "execute_result",
          "data": {
            "text/plain": [
              "[Parameter containing:\n",
              " tensor([[0.3699]], requires_grad=True),\n",
              " Parameter containing:\n",
              " tensor([0.4649], requires_grad=True)]"
            ]
          },
          "metadata": {},
          "execution_count": 33
        }
      ],
      "source": [
        "list(affine.parameters())"
      ]
    },
    {
      "cell_type": "markdown",
      "metadata": {
        "id": "-C7abZucXxXp",
        "tags": []
      },
      "source": [
        "We see that by default gradients will be computed with respect to these parameters during backpropagation. Note that the parameters are randomly initialized and not set to 1.\n",
        "\n",
        "We can make the correspondence to $\\beta_0$ and $\\beta_1$ a bit clearer."
      ]
    },
    {
      "cell_type": "code",
      "execution_count": 34,
      "metadata": {
        "colab": {
          "base_uri": "https://localhost:8080/"
        },
        "id": "lyEs7SBvWYuX",
        "outputId": "efbfddca-0679-4d74-bd72-50aa6533ff34",
        "tags": []
      },
      "outputs": [
        {
          "output_type": "stream",
          "name": "stdout",
          "text": [
            "theta0: tensor([0.4649])\n",
            "theta1: tensor([[0.3699]])\n"
          ]
        }
      ],
      "source": [
        "theta0 = affine.bias.data\n",
        "theta1 = affine.weight.data\n",
        "print(f\"theta0: {theta0}\")\n",
        "print(f\"theta1: {theta1}\")"
      ]
    },
    {
      "cell_type": "markdown",
      "metadata": {
        "id": "FO6Gw_4JW2cd",
        "tags": []
      },
      "source": [
        "Conveniently, in contrast to our implementation above, PyTorch's linear layer does not require us to add a column of ones to our data matrix. Instead we can work with the given data directly, after converting it to a PyTorch tensor and reshaping it to a matrix with one column."
      ]
    },
    {
      "cell_type": "code",
      "execution_count": 35,
      "metadata": {
        "colab": {
          "base_uri": "https://localhost:8080/"
        },
        "id": "khBO5mM-Y_I4",
        "outputId": "ba66e5b3-63d5-449f-e7a3-da0ca6a599f5",
        "tags": []
      },
      "outputs": [
        {
          "output_type": "execute_result",
          "data": {
            "text/plain": [
              "tensor([[0.5358],\n",
              "        [0.6951],\n",
              "        [0.6269],\n",
              "        [0.7554],\n",
              "        [0.7535],\n",
              "        [0.5658],\n",
              "        [0.5672],\n",
              "        [0.7616],\n",
              "        [0.8194],\n",
              "        [0.7889],\n",
              "        [0.5973],\n",
              "        [0.6503],\n",
              "        [0.7178],\n",
              "        [0.7286],\n",
              "        [0.6019],\n",
              "        [0.6725],\n",
              "        [0.6510],\n",
              "        [0.4700],\n",
              "        [0.7508],\n",
              "        [0.7914],\n",
              "        [0.5999],\n",
              "        [0.6926],\n",
              "        [0.4928],\n",
              "        [0.6014],\n",
              "        [0.8101],\n",
              "        [0.7059],\n",
              "        [0.6119],\n",
              "        [0.7567],\n",
              "        [0.5821],\n",
              "        [0.6751],\n",
              "        [0.7864],\n",
              "        [0.6263],\n",
              "        [0.7617],\n",
              "        [0.5181],\n",
              "        [0.7254],\n",
              "        [0.7256],\n",
              "        [0.5459],\n",
              "        [0.8070],\n",
              "        [0.6285],\n",
              "        [0.8013],\n",
              "        [0.4871],\n",
              "        [0.5331],\n",
              "        [0.4825],\n",
              "        [0.7146],\n",
              "        [0.6849],\n",
              "        [0.6622],\n",
              "        [0.4810],\n",
              "        [0.6726],\n",
              "        [0.5869],\n",
              "        [0.6510],\n",
              "        [0.5063],\n",
              "        [0.6895],\n",
              "        [0.6743],\n",
              "        [0.4674],\n",
              "        [0.6933],\n",
              "        [0.8023],\n",
              "        [0.7574],\n",
              "        [0.8319],\n",
              "        [0.8196],\n",
              "        [0.7579],\n",
              "        [0.5705],\n",
              "        [0.6961],\n",
              "        [0.6418],\n",
              "        [0.5373],\n",
              "        [0.6064],\n",
              "        [0.4849],\n",
              "        [0.6320],\n",
              "        [0.8282],\n",
              "        [0.5108],\n",
              "        [0.5091],\n",
              "        [0.7381],\n",
              "        [0.6822],\n",
              "        [0.6394],\n",
              "        [0.5046],\n",
              "        [0.5497],\n",
              "        [0.7978],\n",
              "        [0.6191],\n",
              "        [0.6631],\n",
              "        [0.4672],\n",
              "        [0.5761],\n",
              "        [0.6265],\n",
              "        [0.6914],\n",
              "        [0.8046],\n",
              "        [0.6964],\n",
              "        [0.7261],\n",
              "        [0.5204],\n",
              "        [0.7409],\n",
              "        [0.7723],\n",
              "        [0.6994],\n",
              "        [0.6271],\n",
              "        [0.5214],\n",
              "        [0.6752],\n",
              "        [0.6603],\n",
              "        [0.8169],\n",
              "        [0.6426],\n",
              "        [0.6508],\n",
              "        [0.6635],\n",
              "        [0.7680],\n",
              "        [0.4861],\n",
              "        [0.7126]], grad_fn=<AddmmBackward0>)"
            ]
          },
          "metadata": {},
          "execution_count": 35
        }
      ],
      "source": [
        "# build data matrix\n",
        "X = torch.from_numpy(xt).float().view(-1, 1)\n",
        "\n",
        "# apply the affine transformation to the data\n",
        "affine(X)"
      ]
    },
    {
      "cell_type": "markdown",
      "metadata": {
        "id": "A4BKKgtdZX4P",
        "tags": []
      },
      "source": [
        "We can rewrite the training procedure using this linear layer."
      ]
    },
    {
      "cell_type": "code",
      "execution_count": 36,
      "metadata": {
        "colab": {
          "base_uri": "https://localhost:8080/",
          "height": 636
        },
        "id": "xzG4f7S3bMxg",
        "outputId": "15cc8aff-fda8-4ad0-ffaf-086080a56148",
        "tags": []
      },
      "outputs": [
        {
          "output_type": "stream",
          "name": "stdout",
          "text": [
            "Epoch    1: training loss  1.757581\n",
            "Epoch  100: training loss  0.000133\n",
            "Epoch  200: training loss  0.000096\n",
            "Epoch  300: training loss  0.000093\n",
            "Epoch  400: training loss  0.000093\n",
            "Epoch  500: training loss  0.000093\n",
            "Epoch  600: training loss  0.000093\n",
            "Epoch  700: training loss  0.000093\n",
            "Epoch  800: training loss  0.000093\n",
            "Epoch  900: training loss  0.000093\n",
            "Epoch 1000: training loss  0.000093\n"
          ]
        },
        {
          "output_type": "display_data",
          "data": {
            "text/plain": [
              "<Figure size 640x480 with 1 Axes>"
            ],
            "image/png": "[encoded data removed]"
          },
          "metadata": {}
        }
      ],
      "source": [
        "# define the initial model parameters\n",
        "affine = nn.Linear(1, 1)\n",
        "\n",
        "# define the optimizer\n",
        "optimizer = optim.SGD(affine.parameters(), lr=0.1)\n",
        "\n",
        "# track the training loss\n",
        "training_loss = []\n",
        "\n",
        "# in multiple iterations\n",
        "for i in range(1000):\n",
        "    # evaluate the mean squared error for the current parameters\n",
        "    loss = (affine(X) - Y).pow(2).mean()\n",
        "\n",
        "    # update the statistic and print loss\n",
        "    training_loss.append(loss.item())\n",
        "    if i == 0 or (i + 1) % 100 == 0:\n",
        "      print(f\"Epoch {i + 1:4d}: training loss {training_loss[-1]: 9.6f}\")\n",
        "\n",
        "    # perform backpropagation\n",
        "    loss.backward()\n",
        "\n",
        "    # perform a gradient descent step\n",
        "    optimizer.step()\n",
        "\n",
        "    # reset the gradient information\n",
        "    optimizer.zero_grad()\n",
        "\n",
        "plt.figure()\n",
        "plt.plot(np.arange(1, len(training_loss) + 1), training_loss, 'o', label='training loss')\n",
        "plt.yscale('log')\n",
        "plt.xlabel('number of iterations')\n",
        "plt.legend()\n",
        "plt.show()"
      ]
    },
    {
      "cell_type": "markdown",
      "metadata": {
        "id": "SbBvep-SAHAu",
        "tags": []
      },
      "source": [
        "Let us check again that we obtain a reasonably well-trained model."
      ]
    },
    {
      "cell_type": "code",
      "execution_count": 37,
      "metadata": {
        "colab": {
          "base_uri": "https://localhost:8080/",
          "height": 430
        },
        "id": "qB3ujikOAPxn",
        "outputId": "f661b6ed-ef13-42b1-c7f0-901f672e8343",
        "tags": []
      },
      "outputs": [
        {
          "output_type": "display_data",
          "data": {
            "text/plain": [
              "<Figure size 640x480 with 1 Axes>"
            ],
            "image/png": "[encoded data removed]"
          },
          "metadata": {}
        }
      ],
      "source": [
        "# extract theta0 and theta1 from the linear layer\n",
        "theta0 = affine.bias.detach().numpy()\n",
        "theta1 = affine.weight.detach().numpy().flatten()\n",
        "\n",
        "plt.scatter(xt, yt, label = 'data')\n",
        "plt.plot([0, 1], [theta_true[0], theta_true[0] + theta_true[1]], 'k--', label = 'true model')\n",
        "plt.plot([0, 1], [theta0, theta0 + theta1], 'r-', label = 'estimated model')\n",
        "plt.legend()\n",
        "plt.show()"
      ]
    },
    {
      "cell_type": "markdown",
      "metadata": {
        "id": "0TlmA6QeMM0g",
        "tags": []
      },
      "source": [
        "Note that we have performed linear regression by iteratively minimizing the mean squared error cost function instead of using the closed form solution given by the normal equations. This numerical approach can be used also with other models and cost functions to find the parameters, also in problems where no closed form solution is available."
      ]
    }
  ],
  "metadata": {
    "@webio": {
      "lastCommId": null,
      "lastKernelId": null
    },
    "celltoolbar": "Tags",
    "colab": {
      "name": "Introduction to PyTorch.ipynb",
      "provenance": []
    },
    "kernelspec": {
      "display_name": "lab-sml",
      "language": "python",
      "name": "lab-sml"
    },
    "language_info": {
      "codemirror_mode": {
        "name": "ipython",
        "version": 3
      },
      "file_extension": ".py",
      "mimetype": "text/x-python",
      "name": "python",
      "nbconvert_exporter": "python",
      "pygments_lexer": "ipython3",
      "version": "3.9.7"
    }
  },
  "nbformat": 4,
  "nbformat_minor": 0
}